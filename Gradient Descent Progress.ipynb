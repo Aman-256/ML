{
 "cells": [
  {
   "cell_type": "code",
   "execution_count": null,
   "id": "3dc0fc10",
   "metadata": {},
   "outputs": [],
   "source": [
    "import numpy as np\n",
    "import matplotlib.pyplot as plt\n",
    "\n",
    "# Simple linear dataset: y = 2x + 1\n",
    "x = np.array([1, 2, 3, 4, 5], dtype=float)\n",
    "y = 2 * x + 1\n",
    "\n",
    "# Initialize parameters\n",
    "theta0, theta1 = 0.0, 0.0\n",
    "alpha = 0.01      # Learning rate\n",
    "iterations = 1000\n",
    "\n",
    "# Store snapshots of theta for plotting\n",
    "snapshots = []\n",
    "\n",
    "for i in range(iterations):\n",
    "    # Compute predictions and error\n",
    "    y_pred = theta0 + theta1 * x\n",
    "    error = y_pred - y\n",
    "    \n",
    "    # Compute gradients\n",
    "    grad0 = np.mean(error)          # ∂/∂θ₀\n",
    "    grad1 = np.mean(error * x)      # ∂/∂θ₁\n",
    "    \n",
    "    # Update parameters\n",
    "    theta0 -= alpha * grad0\n",
    "    theta1 -= alpha * grad1\n",
    "    \n",
    "    # Capture a few key iterations\n",
    "    if i in [0, 1, 10, 50, 100, iterations - 1]:\n",
    "        snapshots.append((i, theta0, theta1))\n",
    "\n",
    "# Plot data and lines at selected iterations\n",
    "plt.figure()\n",
    "plt.scatter(x, y)\n",
    "for it, t0, t1 in snapshots:\n",
    "    plt.plot(x, t0 + t1 * x, label=f'iter {it}')\n",
    "plt.xlabel('x')\n",
    "plt.ylabel('y')\n",
    "plt.title('Gradient Descent Progress')\n",
    "plt.legend()\n",
    "plt.show()\n",
    "\n",
    "\n"
   ]
  }
 ],
 "metadata": {
  "kernelspec": {
   "display_name": "Python 3",
   "language": "python",
   "name": "python3"
  },
  "language_info": {
   "codemirror_mode": {
    "name": "ipython",
    "version": 3
   },
   "file_extension": ".py",
   "mimetype": "text/x-python",
   "name": "python",
   "nbconvert_exporter": "python",
   "pygments_lexer": "ipython3",
   "version": "3.12.1"
  }
 },
 "nbformat": 4,
 "nbformat_minor": 5
}
